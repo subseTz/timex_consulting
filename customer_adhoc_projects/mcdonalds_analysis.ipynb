{
 "cells": [
  {
   "cell_type": "markdown",
   "metadata": {},
   "source": [
    "# Precisamos responder algumas perguntas sobre a empresa X.\n",
    "\n",
    "### A empresa x precisa que nos analisemos a eficiencia das campanhas de marketing que possuem a tag = \"Initiative_Type/AbandonCart\"\n",
    "\n",
    "Dessa forma, precisamos pensar em formas para responder essa pergunta e criar um bom storytelling.\n",
    "\n",
    "Perguntas:\n",
    "\n",
    "1. Qual a taxa de conversao?\n",
    "2. Qual a taxa de conversao por canal?\n",
    "3. Qual a conversao por 1000 envios?\n",
    "4. Podemos dizer que as campanhas com tags = \"Initiative_Type/AbandonCart\" estao fazendo sentido?\n",
    "5. Qual sua recomendacao para melhorar a efetividade?\n"
   ]
  },
  {
   "cell_type": "code",
   "execution_count": 1,
   "metadata": {},
   "outputs": [],
   "source": [
    "# Importing Libraries\n",
    "import pandas as pd\n",
    "import numpy as np\n",
    "import matplotlib.pyplot as plt"
   ]
  },
  {
   "cell_type": "code",
   "execution_count": 2,
   "metadata": {},
   "outputs": [],
   "source": [
    "# Loading the dataframe\n",
    "df = pd.read_excel(\"C:\\\\Users\\\\subse\\\\OneDrive\\\\Documentos\\\\GitHub\\\\timex_consulting\\\\files\\\\abandonedcart.xlsx\")"
   ]
  },
  {
   "cell_type": "code",
   "execution_count": 6,
   "metadata": {},
   "outputs": [
    {
     "name": "stdout",
     "output_type": "stream",
     "text": [
      "<class 'pandas.core.frame.DataFrame'>\n",
      "RangeIndex: 24 entries, 0 to 23\n",
      "Data columns (total 10 columns):\n",
      " #   Column                     Non-Null Count  Dtype  \n",
      "---  ------                     --------------  -----  \n",
      " 0   TAG_NAME                   24 non-null     object \n",
      " 1   CHANNEL                    24 non-null     object \n",
      " 2   CONVERSION_WINDOW          24 non-null     int64  \n",
      " 3   CONVERSIONS                24 non-null     int64  \n",
      " 4   SENDS                      24 non-null     int64  \n",
      " 5   CONVERSION_RATE            24 non-null     float64\n",
      " 6   CONVERSION_PER_1000_SENDS  24 non-null     int64  \n",
      " 7   AVG_DAYS_TO_CONVERT        24 non-null     float64\n",
      " 8   MEDIAN_DAYS_TO_CONVERT     24 non-null     float64\n",
      " 9   STD_DAYS_TO_CONVERT        24 non-null     float64\n",
      "dtypes: float64(4), int64(4), object(2)\n",
      "memory usage: 2.0+ KB\n"
     ]
    },
    {
     "data": {
      "text/html": [
       "<div>\n",
       "<style scoped>\n",
       "    .dataframe tbody tr th:only-of-type {\n",
       "        vertical-align: middle;\n",
       "    }\n",
       "\n",
       "    .dataframe tbody tr th {\n",
       "        vertical-align: top;\n",
       "    }\n",
       "\n",
       "    .dataframe thead th {\n",
       "        text-align: right;\n",
       "    }\n",
       "</style>\n",
       "<table border=\"1\" class=\"dataframe\">\n",
       "  <thead>\n",
       "    <tr style=\"text-align: right;\">\n",
       "      <th></th>\n",
       "      <th>TAG_NAME</th>\n",
       "      <th>CHANNEL</th>\n",
       "      <th>CONVERSION_WINDOW</th>\n",
       "      <th>CONVERSIONS</th>\n",
       "      <th>SENDS</th>\n",
       "      <th>CONVERSION_RATE</th>\n",
       "      <th>CONVERSION_PER_1000_SENDS</th>\n",
       "      <th>AVG_DAYS_TO_CONVERT</th>\n",
       "      <th>MEDIAN_DAYS_TO_CONVERT</th>\n",
       "      <th>STD_DAYS_TO_CONVERT</th>\n",
       "    </tr>\n",
       "  </thead>\n",
       "  <tbody>\n",
       "    <tr>\n",
       "      <th>0</th>\n",
       "      <td>Category/Triggered</td>\n",
       "      <td>direct_push</td>\n",
       "      <td>1</td>\n",
       "      <td>311546</td>\n",
       "      <td>3544342</td>\n",
       "      <td>0.087900</td>\n",
       "      <td>87899531</td>\n",
       "      <td>0.339509</td>\n",
       "      <td>0.281250</td>\n",
       "      <td>0.266766</td>\n",
       "    </tr>\n",
       "    <tr>\n",
       "      <th>1</th>\n",
       "      <td>Initiative_Name/Lifecycle</td>\n",
       "      <td>direct_push</td>\n",
       "      <td>1</td>\n",
       "      <td>311451</td>\n",
       "      <td>3541277</td>\n",
       "      <td>0.087949</td>\n",
       "      <td>87948782</td>\n",
       "      <td>0.339466</td>\n",
       "      <td>0.281250</td>\n",
       "      <td>0.266755</td>\n",
       "    </tr>\n",
       "    <tr>\n",
       "      <th>2</th>\n",
       "      <td>Lifecycle/Adoption</td>\n",
       "      <td>direct_push</td>\n",
       "      <td>1</td>\n",
       "      <td>292187</td>\n",
       "      <td>2562583</td>\n",
       "      <td>0.114021</td>\n",
       "      <td>114020502</td>\n",
       "      <td>0.332000</td>\n",
       "      <td>0.272222</td>\n",
       "      <td>0.265559</td>\n",
       "    </tr>\n",
       "    <tr>\n",
       "      <th>3</th>\n",
       "      <td>Initiative_Type/AbandonCart</td>\n",
       "      <td>direct_push</td>\n",
       "      <td>1</td>\n",
       "      <td>163883</td>\n",
       "      <td>520385</td>\n",
       "      <td>0.314926</td>\n",
       "      <td>314926449</td>\n",
       "      <td>0.380736</td>\n",
       "      <td>0.334028</td>\n",
       "      <td>0.260502</td>\n",
       "    </tr>\n",
       "    <tr>\n",
       "      <th>4</th>\n",
       "      <td>Program/Loyalty</td>\n",
       "      <td>direct_push</td>\n",
       "      <td>1</td>\n",
       "      <td>127045</td>\n",
       "      <td>1919303</td>\n",
       "      <td>0.066193</td>\n",
       "      <td>66193300</td>\n",
       "      <td>0.240976</td>\n",
       "      <td>0.152083</td>\n",
       "      <td>0.250500</td>\n",
       "    </tr>\n",
       "  </tbody>\n",
       "</table>\n",
       "</div>"
      ],
      "text/plain": [
       "                      TAG_NAME      CHANNEL  CONVERSION_WINDOW  CONVERSIONS  \\\n",
       "0           Category/Triggered  direct_push                  1       311546   \n",
       "1    Initiative_Name/Lifecycle  direct_push                  1       311451   \n",
       "2           Lifecycle/Adoption  direct_push                  1       292187   \n",
       "3  Initiative_Type/AbandonCart  direct_push                  1       163883   \n",
       "4              Program/Loyalty  direct_push                  1       127045   \n",
       "\n",
       "     SENDS  CONVERSION_RATE  CONVERSION_PER_1000_SENDS  AVG_DAYS_TO_CONVERT  \\\n",
       "0  3544342         0.087900                   87899531             0.339509   \n",
       "1  3541277         0.087949                   87948782             0.339466   \n",
       "2  2562583         0.114021                  114020502             0.332000   \n",
       "3   520385         0.314926                  314926449             0.380736   \n",
       "4  1919303         0.066193                   66193300             0.240976   \n",
       "\n",
       "   MEDIAN_DAYS_TO_CONVERT  STD_DAYS_TO_CONVERT  \n",
       "0                0.281250             0.266766  \n",
       "1                0.281250             0.266755  \n",
       "2                0.272222             0.265559  \n",
       "3                0.334028             0.260502  \n",
       "4                0.152083             0.250500  "
      ]
     },
     "execution_count": 6,
     "metadata": {},
     "output_type": "execute_result"
    }
   ],
   "source": [
    "# Defining the dataframe\n",
    "def overview(df):\n",
    "    df.info()\n",
    "    return df.head()\n",
    "\n",
    "overview(df)"
   ]
  },
  {
   "cell_type": "code",
   "execution_count": 13,
   "metadata": {},
   "outputs": [
    {
     "name": "stdout",
     "output_type": "stream",
     "text": [
      "A taxa de conversao total para as campanhas que usam a tag 'Initiative_Type/AbandonCart' eh de 31.49%\n"
     ]
    }
   ],
   "source": [
    "# Analisando a taxa de conversao da tag = \"Initiative_Type/AbandonCart\"\n",
    "conversion_rate = df[df['TAG_NAME'] == 'Initiative_Type/AbandonCart']\n",
    "conversion_rate_calc = (conversion_rate['CONVERSIONS'].sum() / (conversion_rate['SENDS'].sum())) * 100\n",
    "conversion_rate_calc = round(conversion_rate_calc, 2)\n",
    "\n",
    "print(f\"A taxa de conversao total para as campanhas que usam a tag 'Initiative_Type/AbandonCart' eh de {conversion_rate_calc}%\")"
   ]
  },
  {
   "cell_type": "code",
   "execution_count": 22,
   "metadata": {},
   "outputs": [
    {
     "name": "stdout",
     "output_type": "stream",
     "text": [
      "A taxa de conversao para o canal direct_push eh igual a 31.49% \n",
      "\n",
      "\n"
     ]
    },
    {
     "ename": "",
     "evalue": "",
     "output_type": "error",
     "traceback": [
      "\u001b[1;31mThe Kernel crashed while executing code in the current cell or a previous cell. \n",
      "\u001b[1;31mPlease review the code in the cell(s) to identify a possible cause of the failure. \n",
      "\u001b[1;31mClick <a href='https://aka.ms/vscodeJupyterKernelCrash'>here</a> for more info. \n",
      "\u001b[1;31mView Jupyter <a href='command:jupyter.viewOutput'>log</a> for further details."
     ]
    }
   ],
   "source": [
    "# Calculando a taxa de conversao por cada canal\n",
    "tag = df[df['TAG_NAME'] == 'Initiative_Type/AbandonCart']\n",
    "for var in tag['CHANNEL'].values:\n",
    "    #print(var)\n",
    "    channel = tag[tag['CHANNEL'] == var]\n",
    "    channel_rate = (channel['CONVERSIONS'].sum() / channel['SENDS'].sum()) * 100\n",
    "    channel_rate = round(channel_rate, 2)\n",
    "    print(f\"A taxa de conversao para o canal {var} eh igual a {channel_rate}% \\n\\n\")"
   ]
  }
 ],
 "metadata": {
  "kernelspec": {
   "display_name": "Python 3",
   "language": "python",
   "name": "python3"
  },
  "language_info": {
   "codemirror_mode": {
    "name": "ipython",
    "version": 3
   },
   "file_extension": ".py",
   "mimetype": "text/x-python",
   "name": "python",
   "nbconvert_exporter": "python",
   "pygments_lexer": "ipython3",
   "version": "3.11.7"
  }
 },
 "nbformat": 4,
 "nbformat_minor": 2
}
